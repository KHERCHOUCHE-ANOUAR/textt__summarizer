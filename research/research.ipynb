{
 "cells": [
  {
   "cell_type": "code",
   "execution_count": 2,
   "id": "c2442e03",
   "metadata": {},
   "outputs": [
    {
     "data": {
      "text/plain": [
       "'text_summarization'"
      ]
     },
     "execution_count": 2,
     "metadata": {},
     "output_type": "execute_result"
    }
   ],
   "source": [
    "from box import ConfigBox\n",
    "dict_config = ConfigBox({\"experiment\": \"text_summarization\",\n",
    "                         \"model_name\": \"t5-base\",\n",
    "                         \"max_length\": 512,\n",
    "                         \"min_length\": 50,\n",
    "                         \"num_beams\": 4,        })\n",
    "\n",
    "\n",
    "dict_config.experiment"
   ]
  }
 ],
 "metadata": {
  "kernelspec": {
   "display_name": "my_env",
   "language": "python",
   "name": "python3"
  },
  "language_info": {
   "codemirror_mode": {
    "name": "ipython",
    "version": 3
   },
   "file_extension": ".py",
   "mimetype": "text/x-python",
   "name": "python",
   "nbconvert_exporter": "python",
   "pygments_lexer": "ipython3",
   "version": "3.10.18"
  }
 },
 "nbformat": 4,
 "nbformat_minor": 5
}
